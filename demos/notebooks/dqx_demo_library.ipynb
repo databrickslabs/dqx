{
 "cells": [
  {
   "cell_type": "markdown",
   "metadata": {},
   "source": [
    "# DQX - Use as library demo\n",
    "\n",
    "In this demo we demonstrate how to create and apply a set of rules from an object and from a YAML configuration. \n",
    "\n",
    "**Note.**\n",
    "This notebook can be executed without any modifications when using the `VS Code Databricks Extension`"
   ]
  },
  {
   "cell_type": "markdown",
   "metadata": {},
   "source": [
    "### Instal DQX"
   ]
  },
  {
   "cell_type": "code",
   "execution_count": null,
   "metadata": {},
   "outputs": [],
   "source": [
    "%pip install databricks-labs-dqx==0.5.0\n",
    "%restart_python"
   ]
  },
  {
   "cell_type": "markdown",
   "metadata": {},
   "source": [
    "### Import Required Libraries"
   ]
  },
  {
   "cell_type": "code",
   "execution_count": null,
   "metadata": {},
   "outputs": [],
   "source": [
    "import yaml\n",
    "from databricks.labs.dqx.engine import DQEngineCore, DQEngine\n",
    "from databricks.sdk import WorkspaceClient\n",
    "from pyspark.sql import SparkSession, Row"
   ]
  },
  {
   "cell_type": "markdown",
   "metadata": {},
   "source": [
    "### Configure Test Data\n",
    "\n",
    "The result of this next step is `new_users_df`, which represents a dataset of new users which requires quality validation."
   ]
  },
  {
   "cell_type": "code",
   "execution_count": null,
   "metadata": {},
   "outputs": [],
   "source": [
    "spark = SparkSession.builder.appName(\"DQX_demo_library\").getOrCreate()\n",
    "\n",
    "# Create a sample DataFrame representing your 'nations' table\n",
    "new_users_sample_data = [\n",
    "    Row(id=1, age=23, country='Germany'),\n",
    "    Row(id=2, age=30, country='France'),\n",
    "    Row(id=3, age=16, country='Germany'), # Invalid -> age - LT 18\n",
    "    Row(id=None,  age=29, country='France'), # Invalid -> id - NULL\n",
    "    Row(id=4,  age=29, country=''), # Invalid -> country - Empty\n",
    "    Row(id=5,  age=23, country='Italy'), # Invalid -> country - not in\n",
    "    Row(id=6,  age=123, country='France') # Invalid -> age - GT 120\n",
    "]\n",
    "\n",
    "new_users_df = spark.createDataFrame(new_users_sample_data)"
   ]
  },
  {
   "cell_type": "markdown",
   "metadata": {},
   "source": [
    "### Demoing Functions\n",
    "- is_not_null_and_not_empty\n",
    "- is_in_range\n",
    "- is_in_list\n",
    "Link to out of the box checks/rules - [check_funcs.py](https://github.com/databrickslabs/dqx/blob/98c3ef12d7b2ce3c1cc6c2bc3f9643a27876d817/src/databricks/labs/dqx/check_funcs.py)\n",
    "\n",
    "We are demonstrating 2 methods for creating a `Checks` array:\n",
    "- **checks_from_object**: Is a python array that can be casted to `list[DQRule]`\n",
    "- **checks_from_yaml**: yaml object that can directly be used by `DQEngine`\n",
    "\n",
    "Then we use `validate_checks` to make sure our configurations are correct."
   ]
  },
  {
   "cell_type": "code",
   "execution_count": null,
   "metadata": {},
   "outputs": [],
   "source": [
    "checks_from_object = [\n",
    "        {\n",
    "            \"check\": {\n",
    "                \"function\": \"is_not_null_and_not_empty\",\n",
    "                \"criticality\": \"warn\",\n",
    "                \"for_each_column\": [\"id\", \"age\", \"country\"],\n",
    "                \"arguments\": {},\n",
    "            },\n",
    "            \"user_metadata\": {\"check_type\": \"completeness\", \"check_owner\": \"someone@email.com\"},\n",
    "        },\n",
    "        {\n",
    "            \"criticality\": \"error\",\n",
    "            \"check\": {\n",
    "              \"function\": \"is_in_range\", \n",
    "              \"for_each_column\": [\"age\"],\n",
    "              \"arguments\": {\n",
    "                \"min_limit\": 18,\n",
    "                \"max_limit\": 120\n",
    "                }\n",
    "            },\n",
    "        },\n",
    "        {\n",
    "            \"criticality\": \"error\",\n",
    "            \"check\": {\n",
    "              \"function\": \"is_in_list\", \n",
    "              \"for_each_column\": [\"country\"],\n",
    "              \"arguments\": {\n",
    "                \"allowed\": [\"Germany\", \"France\"]\n",
    "                }\n",
    "            },\n",
    "        },\n",
    "    ]\n",
    "\n",
    "# Validate YAML checks\n",
    "status = DQEngine.validate_checks(checks_from_object)\n",
    "print(f\"Checks from Object: {status}\")\n",
    "\n",
    "checks_from_yaml = yaml.safe_load(\"\"\"\n",
    "- check:\n",
    "    function: is_not_null_and_not_empty\n",
    "    for_each_column:\n",
    "      - id\n",
    "      - age\n",
    "      - country\n",
    "    criticality: error\n",
    "- check:\n",
    "    function: is_in_range\n",
    "    for_each_column:\n",
    "      - age\n",
    "    criticality: warn\n",
    "    arguments:\n",
    "      min_limit: 18\n",
    "      max_limit: 120\n",
    "- check:\n",
    "    function: is_in_list\n",
    "    for_each_column:\n",
    "      - country\n",
    "    criticality: warn\n",
    "    arguments:\n",
    "      allowed:\n",
    "        - Germany\n",
    "        - France\n",
    "\"\"\")\n",
    "\n",
    "# Validate YAML checks\n",
    "status = DQEngine.validate_checks(checks_from_yaml)\n",
    "print(f\"Checks from YAML: {status}\")"
   ]
  },
  {
   "cell_type": "markdown",
   "metadata": {
    "vscode": {
     "languageId": "polyglot-notebook"
    }
   },
   "source": [
    "### Setup `DQEngine`"
   ]
  },
  {
   "cell_type": "code",
   "execution_count": null,
   "metadata": {},
   "outputs": [],
   "source": [
    "ws = WorkspaceClient()\n",
    "dq_engine = DQEngine(ws)"
   ]
  },
  {
   "cell_type": "markdown",
   "metadata": {},
   "source": [
    "### Apply Object Rules"
   ]
  },
  {
   "cell_type": "code",
   "execution_count": null,
   "metadata": {},
   "outputs": [],
   "source": [
    "object_rules = DQEngineCore.build_checks_by_metadata(checks_from_object)\n",
    "object_rules_valid_rows_df, object_rules_invalid_rows_df = dq_engine.apply_checks_and_split(new_users_df, object_rules)"
   ]
  },
  {
   "cell_type": "code",
   "execution_count": null,
   "metadata": {},
   "outputs": [],
   "source": [
    "object_rules_valid_rows_df.show()"
   ]
  },
  {
   "cell_type": "code",
   "execution_count": null,
   "metadata": {},
   "outputs": [],
   "source": [
    "object_rules_invalid_rows_df.show()"
   ]
  },
  {
   "cell_type": "markdown",
   "metadata": {},
   "source": [
    "### Apply YAML Rules"
   ]
  },
  {
   "cell_type": "code",
   "execution_count": null,
   "metadata": {},
   "outputs": [],
   "source": [
    "yaml_rules_valid_rows, yaml_rules_invalid_rows = dq_engine.apply_checks_by_metadata_and_split(new_users_df, checks_from_yaml)"
   ]
  },
  {
   "cell_type": "code",
   "execution_count": null,
   "metadata": {},
   "outputs": [],
   "source": [
    "yaml_rules_valid_rows.show()"
   ]
  },
  {
   "cell_type": "code",
   "execution_count": null,
   "metadata": {},
   "outputs": [],
   "source": [
    "yaml_rules_invalid_rows.show()"
   ]
  }
 ],
 "metadata": {
  "language_info": {
   "name": "python"
  }
 },
 "nbformat": 4,
 "nbformat_minor": 2
}
